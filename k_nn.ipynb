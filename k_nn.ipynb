{
  "nbformat": 4,
  "nbformat_minor": 0,
  "metadata": {
    "colab": {
      "name": "k-nn.ipynb",
      "provenance": [],
      "mount_file_id": "1EPtf_bUmarXzqjcHI1m5nnlFnIK8CeHt",
      "authorship_tag": "ABX9TyOw/8sZhNieprQtA3Eo52Ch",
      "include_colab_link": true
    },
    "kernelspec": {
      "name": "python3",
      "display_name": "Python 3"
    },
    "language_info": {
      "name": "python"
    }
  },
  "cells": [
    {
      "cell_type": "markdown",
      "metadata": {
        "id": "view-in-github",
        "colab_type": "text"
      },
      "source": [
        "<a href=\"https://colab.research.google.com/github/thiagoFatecOurinhos/python/blob/master/k_nn.ipynb\" target=\"_parent\"><img src=\"https://colab.research.google.com/assets/colab-badge.svg\" alt=\"Open In Colab\"/></a>"
      ]
    },
    {
      "cell_type": "markdown",
      "metadata": {
        "id": "hcLA9Lxv7NlM"
      },
      "source": [
        "**Import das bibliotecas úteis: numpy, pandas e sklearn:**"
      ]
    },
    {
      "cell_type": "code",
      "metadata": {
        "id": "cQbEy4GvuwWh"
      },
      "source": [
        "import numpy as np\n",
        "import pandas as pd\n",
        "from sklearn import model_selection\n",
        "from sklearn.model_selection import cross_val_predict, GridSearchCV\n",
        "from sklearn.neighbors import KNeighborsClassifier\n",
        "from sklearn.metrics import *\n"
      ],
      "execution_count": 96,
      "outputs": []
    },
    {
      "cell_type": "markdown",
      "metadata": {
        "id": "5Yg3_JVE7UKH"
      },
      "source": [
        "**Carregamento do dataset de ataques DDoS (10%):**"
      ]
    },
    {
      "cell_type": "code",
      "metadata": {
        "id": "he9ENUuNvIPc"
      },
      "source": [
        "dataset = np.array(pd.read_csv(\"/content/drive/MyDrive/Datasets/dataset_preprocessado_10perc_bin.csv\"))"
      ],
      "execution_count": 97,
      "outputs": []
    },
    {
      "cell_type": "markdown",
      "metadata": {
        "id": "gIgeMSeN7bKf"
      },
      "source": [
        "**Recortes: matriz x contém as features enquanto o vetor y contém as labels:**"
      ]
    },
    {
      "cell_type": "code",
      "metadata": {
        "id": "sXGcdxqrwPFM"
      },
      "source": [
        "X = dataset[:, 0:77] # X == features\n",
        "y = dataset[:, 78]   # y == rótulos\n"
      ],
      "execution_count": 98,
      "outputs": []
    },
    {
      "cell_type": "markdown",
      "metadata": {
        "id": "yA4I3mI_7lMZ"
      },
      "source": [
        "**Utilizando GridSearchCV para encontrar os melhores parâmetros:**"
      ]
    },
    {
      "cell_type": "code",
      "metadata": {
        "id": "Pll1vvfC24py",
        "colab": {
          "base_uri": "https://localhost:8080/"
        },
        "outputId": "f54e78b0-cee1-4686-ae59-648f295b8778"
      },
      "source": [
        "grid_params = {\n",
        "    'n_neighbors': [1,3,5],\n",
        "    'metric': ['euclidean','manhattan'],\n",
        "    }\n",
        "\n",
        "gs = GridSearchCV(\n",
        "    KNeighborsClassifier(),\n",
        "    grid_params,\n",
        "    verbose = 1,\n",
        "    cv = 10,\n",
        "    error_score = 'raise'\n",
        "    )\n",
        "\n",
        "gs_results = gs.fit(X, y)\n",
        "print(gs_results.best_params_)"
      ],
      "execution_count": 103,
      "outputs": [
        {
          "output_type": "stream",
          "name": "stdout",
          "text": [
            "Fitting 10 folds for each of 6 candidates, totalling 60 fits\n"
          ]
        },
        {
          "output_type": "stream",
          "name": "stderr",
          "text": [
            "[Parallel(n_jobs=1)]: Using backend SequentialBackend with 1 concurrent workers.\n",
            "[Parallel(n_jobs=1)]: Done  60 out of  60 | elapsed:  4.1min finished\n"
          ]
        },
        {
          "output_type": "stream",
          "name": "stdout",
          "text": [
            "{'metric': 'manhattan', 'n_neighbors': 1}\n"
          ]
        }
      ]
    },
    {
      "cell_type": "markdown",
      "metadata": {
        "id": "InAFrQ9L7wGn"
      },
      "source": [
        "**Treinamento e testes:**"
      ]
    },
    {
      "cell_type": "code",
      "metadata": {
        "colab": {
          "base_uri": "https://localhost:8080/"
        },
        "id": "wCup0Ic26ZY2",
        "outputId": "fb7a5098-6320-4a94-d0f2-e12a00e6dbcc"
      },
      "source": [
        "clf1 = KNeighborsClassifier(metric = 'manhattan', n_neighbors = 1)\n",
        "clf1_pred = cross_val_predict(clf1, X, y, cv=10)\n",
        "conf_clf1 = confusion_matrix(y, clf1_pred)\n",
        "\n",
        "\n",
        "print(\"********* Desempenho KNN **********\")\n",
        "print(\"Acuracia:\", accuracy_score(y, clf1_pred)*100)\n",
        "print(\"AUC:\", roc_auc_score(y, clf1_pred)*100)\n",
        "print(\"Precision:\", precision_score(y, clf1_pred)*100)\n",
        "print(\"Recall:\", recall_score(y, clf1_pred)*100)\n",
        "print(\"F1:\", f1_score(y, clf1_pred)*100)\n",
        "print(\"***********************************************************\")\n"
      ],
      "execution_count": 104,
      "outputs": [
        {
          "output_type": "stream",
          "name": "stdout",
          "text": [
            "********* Desempenho KNN **********\n",
            "Acuracia: 99.42001735608909\n",
            "AUC: 99.4244485497397\n",
            "Precision: 98.96193771626297\n",
            "Recall: 99.4404923667173\n",
            "F1: 99.20063789494668\n",
            "***********************************************************\n"
          ]
        }
      ]
    },
    {
      "cell_type": "markdown",
      "metadata": {
        "id": "yrti0Wyt70sB"
      },
      "source": [
        "**Observando a matriz de confusão:**\n"
      ]
    },
    {
      "cell_type": "code",
      "metadata": {
        "colab": {
          "base_uri": "https://localhost:8080/"
        },
        "id": "fGHy1SMa6x83",
        "outputId": "94f8474f-8634-473c-8193-f5e1df88a7b5"
      },
      "source": [
        "print(conf_clf1)"
      ],
      "execution_count": 105,
      "outputs": [
        {
          "output_type": "stream",
          "name": "stdout",
          "text": [
            "[[43857   261]\n",
            " [  140 24882]]\n"
          ]
        }
      ]
    },
    {
      "cell_type": "markdown",
      "metadata": {
        "id": "Uc7J9_yI9mIg"
      },
      "source": [
        "Lembrando: \n",
        "\n",
        "![cm.png](data:image/png;base64,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)"
      ]
    }
  ]
}